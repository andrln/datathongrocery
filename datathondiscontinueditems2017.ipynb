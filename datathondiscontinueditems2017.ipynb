{
 "cells": [
  {
   "cell_type": "code",
   "execution_count": 1,
   "id": "bb2246f6",
   "metadata": {},
   "outputs": [],
   "source": [
    "import pandas as pd\n",
    "import plotly.express as px\n",
    "\n",
    "dataset = pd.read_csv(\"sales_data_2017_2018.csv\")"
   ]
  },
  {
   "cell_type": "code",
   "execution_count": 2,
   "id": "7e915134",
   "metadata": {},
   "outputs": [
    {
     "data": {
      "text/html": [
       "<div>\n",
       "<style scoped>\n",
       "    .dataframe tbody tr th:only-of-type {\n",
       "        vertical-align: middle;\n",
       "    }\n",
       "\n",
       "    .dataframe tbody tr th {\n",
       "        vertical-align: top;\n",
       "    }\n",
       "\n",
       "    .dataframe thead th {\n",
       "        text-align: right;\n",
       "    }\n",
       "</style>\n",
       "<table border=\"1\" class=\"dataframe\">\n",
       "  <thead>\n",
       "    <tr style=\"text-align: right;\">\n",
       "      <th></th>\n",
       "      <th>receipt_id</th>\n",
       "      <th>date</th>\n",
       "      <th>item_code</th>\n",
       "      <th>item_name</th>\n",
       "      <th>main_category</th>\n",
       "      <th>sub_category</th>\n",
       "      <th>quantity</th>\n",
       "      <th>payment_type</th>\n",
       "      <th>unit_buying_price</th>\n",
       "      <th>unit_selling_price</th>\n",
       "      <th>unit_price_margin</th>\n",
       "      <th>total_buying_price</th>\n",
       "      <th>total_selling_price</th>\n",
       "      <th>total_profit</th>\n",
       "    </tr>\n",
       "  </thead>\n",
       "  <tbody>\n",
       "    <tr>\n",
       "      <th>0</th>\n",
       "      <td>c5341571-9ead-49bf-ae6d-3a7ddfbd0e31</td>\n",
       "      <td>7/19/2018 8:40:13 AM</td>\n",
       "      <td>2025</td>\n",
       "      <td>Kiwi fruit Green</td>\n",
       "      <td>Fresh Produce</td>\n",
       "      <td>Other Fruits</td>\n",
       "      <td>0.546</td>\n",
       "      <td>cash</td>\n",
       "      <td>0.0</td>\n",
       "      <td>5.5</td>\n",
       "      <td>5.5</td>\n",
       "      <td>0.0</td>\n",
       "      <td>3.003</td>\n",
       "      <td>3.003</td>\n",
       "    </tr>\n",
       "    <tr>\n",
       "      <th>1</th>\n",
       "      <td>f6d66747-85e2-4b43-99c3-3fc324ea02f7</td>\n",
       "      <td>6/15/2018 4:01:07 PM</td>\n",
       "      <td>2025</td>\n",
       "      <td>Kiwi fruit Green</td>\n",
       "      <td>Fresh Produce</td>\n",
       "      <td>Other Fruits</td>\n",
       "      <td>0.546</td>\n",
       "      <td>cash</td>\n",
       "      <td>0.0</td>\n",
       "      <td>5.5</td>\n",
       "      <td>5.5</td>\n",
       "      <td>0.0</td>\n",
       "      <td>3.003</td>\n",
       "      <td>3.003</td>\n",
       "    </tr>\n",
       "    <tr>\n",
       "      <th>2</th>\n",
       "      <td>5757fe87-17b3-44ff-ae49-7548cd156998</td>\n",
       "      <td>9/18/2018 9:01:37 AM</td>\n",
       "      <td>2025</td>\n",
       "      <td>Kiwi fruit Green</td>\n",
       "      <td>Fresh Produce</td>\n",
       "      <td>Other Fruits</td>\n",
       "      <td>0.548</td>\n",
       "      <td>cash</td>\n",
       "      <td>0.0</td>\n",
       "      <td>5.5</td>\n",
       "      <td>5.5</td>\n",
       "      <td>0.0</td>\n",
       "      <td>3.014</td>\n",
       "      <td>3.014</td>\n",
       "    </tr>\n",
       "    <tr>\n",
       "      <th>3</th>\n",
       "      <td>ccfec4ae-e68f-4f7f-a15d-486b98acbd09</td>\n",
       "      <td>8/14/2018 12:36:46 PM</td>\n",
       "      <td>2025</td>\n",
       "      <td>Kiwi fruit Green</td>\n",
       "      <td>Fresh Produce</td>\n",
       "      <td>Other Fruits</td>\n",
       "      <td>0.548</td>\n",
       "      <td>cash</td>\n",
       "      <td>0.0</td>\n",
       "      <td>5.5</td>\n",
       "      <td>5.5</td>\n",
       "      <td>0.0</td>\n",
       "      <td>3.014</td>\n",
       "      <td>3.014</td>\n",
       "    </tr>\n",
       "    <tr>\n",
       "      <th>4</th>\n",
       "      <td>9a45dc36-f771-42a7-a343-fac1a8e58bb7</td>\n",
       "      <td>6/19/2018 5:03:58 PM</td>\n",
       "      <td>2025</td>\n",
       "      <td>Kiwi fruit Green</td>\n",
       "      <td>Fresh Produce</td>\n",
       "      <td>Other Fruits</td>\n",
       "      <td>0.550</td>\n",
       "      <td>cash</td>\n",
       "      <td>0.0</td>\n",
       "      <td>5.5</td>\n",
       "      <td>5.5</td>\n",
       "      <td>0.0</td>\n",
       "      <td>3.025</td>\n",
       "      <td>3.025</td>\n",
       "    </tr>\n",
       "  </tbody>\n",
       "</table>\n",
       "</div>"
      ],
      "text/plain": [
       "                             receipt_id                   date  item_code  \\\n",
       "0  c5341571-9ead-49bf-ae6d-3a7ddfbd0e31   7/19/2018 8:40:13 AM       2025   \n",
       "1  f6d66747-85e2-4b43-99c3-3fc324ea02f7   6/15/2018 4:01:07 PM       2025   \n",
       "2  5757fe87-17b3-44ff-ae49-7548cd156998   9/18/2018 9:01:37 AM       2025   \n",
       "3  ccfec4ae-e68f-4f7f-a15d-486b98acbd09  8/14/2018 12:36:46 PM       2025   \n",
       "4  9a45dc36-f771-42a7-a343-fac1a8e58bb7   6/19/2018 5:03:58 PM       2025   \n",
       "\n",
       "          item_name  main_category  sub_category  quantity payment_type  \\\n",
       "0  Kiwi fruit Green  Fresh Produce  Other Fruits     0.546         cash   \n",
       "1  Kiwi fruit Green  Fresh Produce  Other Fruits     0.546         cash   \n",
       "2  Kiwi fruit Green  Fresh Produce  Other Fruits     0.548         cash   \n",
       "3  Kiwi fruit Green  Fresh Produce  Other Fruits     0.548         cash   \n",
       "4  Kiwi fruit Green  Fresh Produce  Other Fruits     0.550         cash   \n",
       "\n",
       "   unit_buying_price  unit_selling_price  unit_price_margin  \\\n",
       "0                0.0                 5.5                5.5   \n",
       "1                0.0                 5.5                5.5   \n",
       "2                0.0                 5.5                5.5   \n",
       "3                0.0                 5.5                5.5   \n",
       "4                0.0                 5.5                5.5   \n",
       "\n",
       "   total_buying_price  total_selling_price  total_profit  \n",
       "0                 0.0                3.003         3.003  \n",
       "1                 0.0                3.003         3.003  \n",
       "2                 0.0                3.014         3.014  \n",
       "3                 0.0                3.014         3.014  \n",
       "4                 0.0                3.025         3.025  "
      ]
     },
     "execution_count": 2,
     "metadata": {},
     "output_type": "execute_result"
    }
   ],
   "source": [
    "dataset.head()"
   ]
  },
  {
   "cell_type": "code",
   "execution_count": 3,
   "id": "af7eb952",
   "metadata": {
    "scrolled": true
   },
   "outputs": [
    {
     "name": "stdout",
     "output_type": "stream",
     "text": [
      "<class 'pandas.core.frame.DataFrame'>\n",
      "RangeIndex: 372757 entries, 0 to 372756\n",
      "Data columns (total 14 columns):\n",
      " #   Column               Non-Null Count   Dtype  \n",
      "---  ------               --------------   -----  \n",
      " 0   receipt_id           372757 non-null  object \n",
      " 1   date                 372757 non-null  object \n",
      " 2   item_code            372757 non-null  int64  \n",
      " 3   item_name            372757 non-null  object \n",
      " 4   main_category        372757 non-null  object \n",
      " 5   sub_category         372757 non-null  object \n",
      " 6   quantity             372757 non-null  float64\n",
      " 7   payment_type         372757 non-null  object \n",
      " 8   unit_buying_price    286348 non-null  float64\n",
      " 9   unit_selling_price   372757 non-null  float64\n",
      " 10  unit_price_margin    372757 non-null  float64\n",
      " 11  total_buying_price   286348 non-null  float64\n",
      " 12  total_selling_price  372757 non-null  float64\n",
      " 13  total_profit         372757 non-null  float64\n",
      "dtypes: float64(7), int64(1), object(6)\n",
      "memory usage: 39.8+ MB\n"
     ]
    }
   ],
   "source": [
    "dataset.info()"
   ]
  },
  {
   "cell_type": "code",
   "execution_count": 4,
   "id": "182e90df",
   "metadata": {},
   "outputs": [],
   "source": [
    "# Convert the \"date\" column cells, to be type \"datetime\"\n",
    "# so that we can then parse out the dates\n",
    "\n",
    "dataset[\"date\"] = pd.to_datetime(dataset[\"date\"])"
   ]
  },
  {
   "cell_type": "code",
   "execution_count": 5,
   "id": "0eaf4d6d",
   "metadata": {
    "scrolled": true
   },
   "outputs": [
    {
     "name": "stdout",
     "output_type": "stream",
     "text": [
      "<class 'pandas.core.frame.DataFrame'>\n",
      "RangeIndex: 372757 entries, 0 to 372756\n",
      "Data columns (total 14 columns):\n",
      " #   Column               Non-Null Count   Dtype         \n",
      "---  ------               --------------   -----         \n",
      " 0   receipt_id           372757 non-null  object        \n",
      " 1   date                 372757 non-null  datetime64[ns]\n",
      " 2   item_code            372757 non-null  int64         \n",
      " 3   item_name            372757 non-null  object        \n",
      " 4   main_category        372757 non-null  object        \n",
      " 5   sub_category         372757 non-null  object        \n",
      " 6   quantity             372757 non-null  float64       \n",
      " 7   payment_type         372757 non-null  object        \n",
      " 8   unit_buying_price    286348 non-null  float64       \n",
      " 9   unit_selling_price   372757 non-null  float64       \n",
      " 10  unit_price_margin    372757 non-null  float64       \n",
      " 11  total_buying_price   286348 non-null  float64       \n",
      " 12  total_selling_price  372757 non-null  float64       \n",
      " 13  total_profit         372757 non-null  float64       \n",
      "dtypes: datetime64[ns](1), float64(7), int64(1), object(5)\n",
      "memory usage: 39.8+ MB\n"
     ]
    }
   ],
   "source": [
    "dataset.info()"
   ]
  },
  {
   "cell_type": "code",
   "execution_count": 6,
   "id": "fe907a77",
   "metadata": {},
   "outputs": [
    {
     "data": {
      "text/html": [
       "<div>\n",
       "<style scoped>\n",
       "    .dataframe tbody tr th:only-of-type {\n",
       "        vertical-align: middle;\n",
       "    }\n",
       "\n",
       "    .dataframe tbody tr th {\n",
       "        vertical-align: top;\n",
       "    }\n",
       "\n",
       "    .dataframe thead th {\n",
       "        text-align: right;\n",
       "    }\n",
       "</style>\n",
       "<table border=\"1\" class=\"dataframe\">\n",
       "  <thead>\n",
       "    <tr style=\"text-align: right;\">\n",
       "      <th></th>\n",
       "      <th>receipt_id</th>\n",
       "      <th>date</th>\n",
       "      <th>item_code</th>\n",
       "      <th>item_name</th>\n",
       "      <th>main_category</th>\n",
       "      <th>sub_category</th>\n",
       "      <th>quantity</th>\n",
       "      <th>payment_type</th>\n",
       "      <th>unit_buying_price</th>\n",
       "      <th>unit_selling_price</th>\n",
       "      <th>unit_price_margin</th>\n",
       "      <th>total_buying_price</th>\n",
       "      <th>total_selling_price</th>\n",
       "      <th>total_profit</th>\n",
       "    </tr>\n",
       "  </thead>\n",
       "  <tbody>\n",
       "    <tr>\n",
       "      <th>0</th>\n",
       "      <td>c5341571-9ead-49bf-ae6d-3a7ddfbd0e31</td>\n",
       "      <td>2018-07-19 08:40:13</td>\n",
       "      <td>2025</td>\n",
       "      <td>Kiwi fruit Green</td>\n",
       "      <td>Fresh Produce</td>\n",
       "      <td>Other Fruits</td>\n",
       "      <td>0.546</td>\n",
       "      <td>cash</td>\n",
       "      <td>0.0</td>\n",
       "      <td>5.5</td>\n",
       "      <td>5.5</td>\n",
       "      <td>0.0</td>\n",
       "      <td>3.003</td>\n",
       "      <td>3.003</td>\n",
       "    </tr>\n",
       "    <tr>\n",
       "      <th>1</th>\n",
       "      <td>f6d66747-85e2-4b43-99c3-3fc324ea02f7</td>\n",
       "      <td>2018-06-15 16:01:07</td>\n",
       "      <td>2025</td>\n",
       "      <td>Kiwi fruit Green</td>\n",
       "      <td>Fresh Produce</td>\n",
       "      <td>Other Fruits</td>\n",
       "      <td>0.546</td>\n",
       "      <td>cash</td>\n",
       "      <td>0.0</td>\n",
       "      <td>5.5</td>\n",
       "      <td>5.5</td>\n",
       "      <td>0.0</td>\n",
       "      <td>3.003</td>\n",
       "      <td>3.003</td>\n",
       "    </tr>\n",
       "    <tr>\n",
       "      <th>2</th>\n",
       "      <td>5757fe87-17b3-44ff-ae49-7548cd156998</td>\n",
       "      <td>2018-09-18 09:01:37</td>\n",
       "      <td>2025</td>\n",
       "      <td>Kiwi fruit Green</td>\n",
       "      <td>Fresh Produce</td>\n",
       "      <td>Other Fruits</td>\n",
       "      <td>0.548</td>\n",
       "      <td>cash</td>\n",
       "      <td>0.0</td>\n",
       "      <td>5.5</td>\n",
       "      <td>5.5</td>\n",
       "      <td>0.0</td>\n",
       "      <td>3.014</td>\n",
       "      <td>3.014</td>\n",
       "    </tr>\n",
       "    <tr>\n",
       "      <th>3</th>\n",
       "      <td>ccfec4ae-e68f-4f7f-a15d-486b98acbd09</td>\n",
       "      <td>2018-08-14 12:36:46</td>\n",
       "      <td>2025</td>\n",
       "      <td>Kiwi fruit Green</td>\n",
       "      <td>Fresh Produce</td>\n",
       "      <td>Other Fruits</td>\n",
       "      <td>0.548</td>\n",
       "      <td>cash</td>\n",
       "      <td>0.0</td>\n",
       "      <td>5.5</td>\n",
       "      <td>5.5</td>\n",
       "      <td>0.0</td>\n",
       "      <td>3.014</td>\n",
       "      <td>3.014</td>\n",
       "    </tr>\n",
       "    <tr>\n",
       "      <th>4</th>\n",
       "      <td>9a45dc36-f771-42a7-a343-fac1a8e58bb7</td>\n",
       "      <td>2018-06-19 17:03:58</td>\n",
       "      <td>2025</td>\n",
       "      <td>Kiwi fruit Green</td>\n",
       "      <td>Fresh Produce</td>\n",
       "      <td>Other Fruits</td>\n",
       "      <td>0.550</td>\n",
       "      <td>cash</td>\n",
       "      <td>0.0</td>\n",
       "      <td>5.5</td>\n",
       "      <td>5.5</td>\n",
       "      <td>0.0</td>\n",
       "      <td>3.025</td>\n",
       "      <td>3.025</td>\n",
       "    </tr>\n",
       "  </tbody>\n",
       "</table>\n",
       "</div>"
      ],
      "text/plain": [
       "                             receipt_id                date  item_code  \\\n",
       "0  c5341571-9ead-49bf-ae6d-3a7ddfbd0e31 2018-07-19 08:40:13       2025   \n",
       "1  f6d66747-85e2-4b43-99c3-3fc324ea02f7 2018-06-15 16:01:07       2025   \n",
       "2  5757fe87-17b3-44ff-ae49-7548cd156998 2018-09-18 09:01:37       2025   \n",
       "3  ccfec4ae-e68f-4f7f-a15d-486b98acbd09 2018-08-14 12:36:46       2025   \n",
       "4  9a45dc36-f771-42a7-a343-fac1a8e58bb7 2018-06-19 17:03:58       2025   \n",
       "\n",
       "          item_name  main_category  sub_category  quantity payment_type  \\\n",
       "0  Kiwi fruit Green  Fresh Produce  Other Fruits     0.546         cash   \n",
       "1  Kiwi fruit Green  Fresh Produce  Other Fruits     0.546         cash   \n",
       "2  Kiwi fruit Green  Fresh Produce  Other Fruits     0.548         cash   \n",
       "3  Kiwi fruit Green  Fresh Produce  Other Fruits     0.548         cash   \n",
       "4  Kiwi fruit Green  Fresh Produce  Other Fruits     0.550         cash   \n",
       "\n",
       "   unit_buying_price  unit_selling_price  unit_price_margin  \\\n",
       "0                0.0                 5.5                5.5   \n",
       "1                0.0                 5.5                5.5   \n",
       "2                0.0                 5.5                5.5   \n",
       "3                0.0                 5.5                5.5   \n",
       "4                0.0                 5.5                5.5   \n",
       "\n",
       "   total_buying_price  total_selling_price  total_profit  \n",
       "0                 0.0                3.003         3.003  \n",
       "1                 0.0                3.003         3.003  \n",
       "2                 0.0                3.014         3.014  \n",
       "3                 0.0                3.014         3.014  \n",
       "4                 0.0                3.025         3.025  "
      ]
     },
     "execution_count": 6,
     "metadata": {},
     "output_type": "execute_result"
    }
   ],
   "source": [
    "# The date still *looks* like one string\n",
    "# But now its datetime object\n",
    "# which allows to parse it out into YY, MM, or DD\n",
    "dataset.head()"
   ]
  },
  {
   "cell_type": "code",
   "execution_count": 7,
   "id": "e91865af",
   "metadata": {
    "scrolled": true
   },
   "outputs": [
    {
     "data": {
      "text/html": [
       "<div>\n",
       "<style scoped>\n",
       "    .dataframe tbody tr th:only-of-type {\n",
       "        vertical-align: middle;\n",
       "    }\n",
       "\n",
       "    .dataframe tbody tr th {\n",
       "        vertical-align: top;\n",
       "    }\n",
       "\n",
       "    .dataframe thead th {\n",
       "        text-align: right;\n",
       "    }\n",
       "</style>\n",
       "<table border=\"1\" class=\"dataframe\">\n",
       "  <thead>\n",
       "    <tr style=\"text-align: right;\">\n",
       "      <th></th>\n",
       "      <th>receipt_id</th>\n",
       "      <th>date</th>\n",
       "      <th>item_code</th>\n",
       "      <th>item_name</th>\n",
       "      <th>main_category</th>\n",
       "      <th>sub_category</th>\n",
       "      <th>quantity</th>\n",
       "      <th>payment_type</th>\n",
       "      <th>unit_buying_price</th>\n",
       "      <th>unit_selling_price</th>\n",
       "      <th>unit_price_margin</th>\n",
       "      <th>total_buying_price</th>\n",
       "      <th>total_selling_price</th>\n",
       "      <th>total_profit</th>\n",
       "      <th>year</th>\n",
       "    </tr>\n",
       "  </thead>\n",
       "  <tbody>\n",
       "    <tr>\n",
       "      <th>0</th>\n",
       "      <td>c5341571-9ead-49bf-ae6d-3a7ddfbd0e31</td>\n",
       "      <td>2018-07-19 08:40:13</td>\n",
       "      <td>2025</td>\n",
       "      <td>Kiwi fruit Green</td>\n",
       "      <td>Fresh Produce</td>\n",
       "      <td>Other Fruits</td>\n",
       "      <td>0.546</td>\n",
       "      <td>cash</td>\n",
       "      <td>0.0</td>\n",
       "      <td>5.5</td>\n",
       "      <td>5.5</td>\n",
       "      <td>0.0</td>\n",
       "      <td>3.003</td>\n",
       "      <td>3.003</td>\n",
       "      <td>2018</td>\n",
       "    </tr>\n",
       "    <tr>\n",
       "      <th>1</th>\n",
       "      <td>f6d66747-85e2-4b43-99c3-3fc324ea02f7</td>\n",
       "      <td>2018-06-15 16:01:07</td>\n",
       "      <td>2025</td>\n",
       "      <td>Kiwi fruit Green</td>\n",
       "      <td>Fresh Produce</td>\n",
       "      <td>Other Fruits</td>\n",
       "      <td>0.546</td>\n",
       "      <td>cash</td>\n",
       "      <td>0.0</td>\n",
       "      <td>5.5</td>\n",
       "      <td>5.5</td>\n",
       "      <td>0.0</td>\n",
       "      <td>3.003</td>\n",
       "      <td>3.003</td>\n",
       "      <td>2018</td>\n",
       "    </tr>\n",
       "    <tr>\n",
       "      <th>2</th>\n",
       "      <td>5757fe87-17b3-44ff-ae49-7548cd156998</td>\n",
       "      <td>2018-09-18 09:01:37</td>\n",
       "      <td>2025</td>\n",
       "      <td>Kiwi fruit Green</td>\n",
       "      <td>Fresh Produce</td>\n",
       "      <td>Other Fruits</td>\n",
       "      <td>0.548</td>\n",
       "      <td>cash</td>\n",
       "      <td>0.0</td>\n",
       "      <td>5.5</td>\n",
       "      <td>5.5</td>\n",
       "      <td>0.0</td>\n",
       "      <td>3.014</td>\n",
       "      <td>3.014</td>\n",
       "      <td>2018</td>\n",
       "    </tr>\n",
       "    <tr>\n",
       "      <th>3</th>\n",
       "      <td>ccfec4ae-e68f-4f7f-a15d-486b98acbd09</td>\n",
       "      <td>2018-08-14 12:36:46</td>\n",
       "      <td>2025</td>\n",
       "      <td>Kiwi fruit Green</td>\n",
       "      <td>Fresh Produce</td>\n",
       "      <td>Other Fruits</td>\n",
       "      <td>0.548</td>\n",
       "      <td>cash</td>\n",
       "      <td>0.0</td>\n",
       "      <td>5.5</td>\n",
       "      <td>5.5</td>\n",
       "      <td>0.0</td>\n",
       "      <td>3.014</td>\n",
       "      <td>3.014</td>\n",
       "      <td>2018</td>\n",
       "    </tr>\n",
       "    <tr>\n",
       "      <th>4</th>\n",
       "      <td>9a45dc36-f771-42a7-a343-fac1a8e58bb7</td>\n",
       "      <td>2018-06-19 17:03:58</td>\n",
       "      <td>2025</td>\n",
       "      <td>Kiwi fruit Green</td>\n",
       "      <td>Fresh Produce</td>\n",
       "      <td>Other Fruits</td>\n",
       "      <td>0.550</td>\n",
       "      <td>cash</td>\n",
       "      <td>0.0</td>\n",
       "      <td>5.5</td>\n",
       "      <td>5.5</td>\n",
       "      <td>0.0</td>\n",
       "      <td>3.025</td>\n",
       "      <td>3.025</td>\n",
       "      <td>2018</td>\n",
       "    </tr>\n",
       "  </tbody>\n",
       "</table>\n",
       "</div>"
      ],
      "text/plain": [
       "                             receipt_id                date  item_code  \\\n",
       "0  c5341571-9ead-49bf-ae6d-3a7ddfbd0e31 2018-07-19 08:40:13       2025   \n",
       "1  f6d66747-85e2-4b43-99c3-3fc324ea02f7 2018-06-15 16:01:07       2025   \n",
       "2  5757fe87-17b3-44ff-ae49-7548cd156998 2018-09-18 09:01:37       2025   \n",
       "3  ccfec4ae-e68f-4f7f-a15d-486b98acbd09 2018-08-14 12:36:46       2025   \n",
       "4  9a45dc36-f771-42a7-a343-fac1a8e58bb7 2018-06-19 17:03:58       2025   \n",
       "\n",
       "          item_name  main_category  sub_category  quantity payment_type  \\\n",
       "0  Kiwi fruit Green  Fresh Produce  Other Fruits     0.546         cash   \n",
       "1  Kiwi fruit Green  Fresh Produce  Other Fruits     0.546         cash   \n",
       "2  Kiwi fruit Green  Fresh Produce  Other Fruits     0.548         cash   \n",
       "3  Kiwi fruit Green  Fresh Produce  Other Fruits     0.548         cash   \n",
       "4  Kiwi fruit Green  Fresh Produce  Other Fruits     0.550         cash   \n",
       "\n",
       "   unit_buying_price  unit_selling_price  unit_price_margin  \\\n",
       "0                0.0                 5.5                5.5   \n",
       "1                0.0                 5.5                5.5   \n",
       "2                0.0                 5.5                5.5   \n",
       "3                0.0                 5.5                5.5   \n",
       "4                0.0                 5.5                5.5   \n",
       "\n",
       "   total_buying_price  total_selling_price  total_profit  year  \n",
       "0                 0.0                3.003         3.003  2018  \n",
       "1                 0.0                3.003         3.003  2018  \n",
       "2                 0.0                3.014         3.014  2018  \n",
       "3                 0.0                3.014         3.014  2018  \n",
       "4                 0.0                3.025         3.025  2018  "
      ]
     },
     "execution_count": 7,
     "metadata": {},
     "output_type": "execute_result"
    }
   ],
   "source": [
    "# Here we add new column by doing \"dataset['year'] = \"\n",
    "# remember, if your do dataset[\"name\"], if \"name\" isn't an existing column, \n",
    "# a new column called \"name\" gets created\n",
    "\n",
    "dataset[\"year\"] = dataset[\"date\"].dt.year\n",
    "\n",
    "dataset.head()"
   ]
  },
  {
   "cell_type": "code",
   "execution_count": 8,
   "id": "427cc2da",
   "metadata": {},
   "outputs": [],
   "source": [
    "# Time for Visualization"
   ]
  },
  {
   "cell_type": "code",
   "execution_count": 9,
   "id": "8457fb8f",
   "metadata": {
    "scrolled": true
   },
   "outputs": [
    {
     "data": {
      "text/html": [
       "<div>\n",
       "<style scoped>\n",
       "    .dataframe tbody tr th:only-of-type {\n",
       "        vertical-align: middle;\n",
       "    }\n",
       "\n",
       "    .dataframe tbody tr th {\n",
       "        vertical-align: top;\n",
       "    }\n",
       "\n",
       "    .dataframe thead th {\n",
       "        text-align: right;\n",
       "    }\n",
       "</style>\n",
       "<table border=\"1\" class=\"dataframe\">\n",
       "  <thead>\n",
       "    <tr style=\"text-align: right;\">\n",
       "      <th></th>\n",
       "      <th>item_name</th>\n",
       "      <th>year</th>\n",
       "      <th>total_profit</th>\n",
       "    </tr>\n",
       "  </thead>\n",
       "  <tbody>\n",
       "    <tr>\n",
       "      <th>1935</th>\n",
       "      <td>wijaya kurakkan Flour 400g</td>\n",
       "      <td>2017</td>\n",
       "      <td>9.810</td>\n",
       "    </tr>\n",
       "    <tr>\n",
       "      <th>1936</th>\n",
       "      <td>wijaya kurakkan Flour 400g</td>\n",
       "      <td>2018</td>\n",
       "      <td>10.900</td>\n",
       "    </tr>\n",
       "    <tr>\n",
       "      <th>1937</th>\n",
       "      <td>wombok half</td>\n",
       "      <td>2017</td>\n",
       "      <td>273.500</td>\n",
       "    </tr>\n",
       "    <tr>\n",
       "      <th>1938</th>\n",
       "      <td>wombok half</td>\n",
       "      <td>2018</td>\n",
       "      <td>19.500</td>\n",
       "    </tr>\n",
       "    <tr>\n",
       "      <th>1939</th>\n",
       "      <td>ya pears</td>\n",
       "      <td>2018</td>\n",
       "      <td>40.698</td>\n",
       "    </tr>\n",
       "  </tbody>\n",
       "</table>\n",
       "</div>"
      ],
      "text/plain": [
       "                       item_name  year  total_profit\n",
       "1935  wijaya kurakkan Flour 400g  2017         9.810\n",
       "1936  wijaya kurakkan Flour 400g  2018        10.900\n",
       "1937                 wombok half  2017       273.500\n",
       "1938                 wombok half  2018        19.500\n",
       "1939                    ya pears  2018        40.698"
      ]
     },
     "execution_count": 9,
     "metadata": {},
     "output_type": "execute_result"
    }
   ],
   "source": [
    "# Retrieving the rows or items that were sold in 2017, but discontinued from selling in 2018\n",
    "\n",
    "item_profit = dataset.groupby([\"item_name\", \"year\"])[[\"total_profit\"]].sum().reset_index()\n",
    "\n",
    "item_profit.tail()"
   ]
  },
  {
   "cell_type": "code",
   "execution_count": 10,
   "id": "161d333e",
   "metadata": {
    "scrolled": true
   },
   "outputs": [
    {
     "data": {
      "text/html": [
       "<div>\n",
       "<style scoped>\n",
       "    .dataframe tbody tr th:only-of-type {\n",
       "        vertical-align: middle;\n",
       "    }\n",
       "\n",
       "    .dataframe tbody tr th {\n",
       "        vertical-align: top;\n",
       "    }\n",
       "\n",
       "    .dataframe thead th {\n",
       "        text-align: right;\n",
       "    }\n",
       "</style>\n",
       "<table border=\"1\" class=\"dataframe\">\n",
       "  <thead>\n",
       "    <tr style=\"text-align: right;\">\n",
       "      <th></th>\n",
       "      <th>item_name</th>\n",
       "      <th>year</th>\n",
       "      <th>total_profit</th>\n",
       "    </tr>\n",
       "  </thead>\n",
       "  <tbody>\n",
       "    <tr>\n",
       "      <th>0</th>\n",
       "      <td>1Lt Coconut Oil Ver</td>\n",
       "      <td>2018</td>\n",
       "      <td>140.00000</td>\n",
       "    </tr>\n",
       "    <tr>\n",
       "      <th>1</th>\n",
       "      <td>1Lt Coconut oil</td>\n",
       "      <td>2017</td>\n",
       "      <td>1097.60000</td>\n",
       "    </tr>\n",
       "    <tr>\n",
       "      <th>2</th>\n",
       "      <td>1kg olive pack</td>\n",
       "      <td>2017</td>\n",
       "      <td>27.35488</td>\n",
       "    </tr>\n",
       "    <tr>\n",
       "      <th>11</th>\n",
       "      <td>Adelaide Tomatoes</td>\n",
       "      <td>2017</td>\n",
       "      <td>24.20970</td>\n",
       "    </tr>\n",
       "    <tr>\n",
       "      <th>38</th>\n",
       "      <td>Ambulthiyal Mix LA</td>\n",
       "      <td>2018</td>\n",
       "      <td>2.67000</td>\n",
       "    </tr>\n",
       "  </tbody>\n",
       "</table>\n",
       "</div>"
      ],
      "text/plain": [
       "              item_name  year  total_profit\n",
       "0   1Lt Coconut Oil Ver  2018     140.00000\n",
       "1       1Lt Coconut oil  2017    1097.60000\n",
       "2        1kg olive pack  2017      27.35488\n",
       "11    Adelaide Tomatoes  2017      24.20970\n",
       "38   Ambulthiyal Mix LA  2018       2.67000"
      ]
     },
     "execution_count": 10,
     "metadata": {},
     "output_type": "execute_result"
    }
   ],
   "source": [
    "unique_names = item_profit.drop_duplicates(subset=[\"item_name\"], keep = False)\n",
    "\n",
    "unique_names.head()"
   ]
  },
  {
   "cell_type": "code",
   "execution_count": 99,
   "id": "24c5c5c8",
   "metadata": {},
   "outputs": [
    {
     "data": {
      "text/html": [
       "<div>\n",
       "<style scoped>\n",
       "    .dataframe tbody tr th:only-of-type {\n",
       "        vertical-align: middle;\n",
       "    }\n",
       "\n",
       "    .dataframe tbody tr th {\n",
       "        vertical-align: top;\n",
       "    }\n",
       "\n",
       "    .dataframe thead th {\n",
       "        text-align: right;\n",
       "    }\n",
       "</style>\n",
       "<table border=\"1\" class=\"dataframe\">\n",
       "  <thead>\n",
       "    <tr style=\"text-align: right;\">\n",
       "      <th></th>\n",
       "      <th>item_name</th>\n",
       "      <th>year</th>\n",
       "      <th>total_profit</th>\n",
       "    </tr>\n",
       "  </thead>\n",
       "  <tbody>\n",
       "    <tr>\n",
       "      <th>0</th>\n",
       "      <td>1Lt Coconut Oil Ver</td>\n",
       "      <td>2018</td>\n",
       "      <td>140.00000</td>\n",
       "    </tr>\n",
       "    <tr>\n",
       "      <th>1</th>\n",
       "      <td>1Lt Coconut oil</td>\n",
       "      <td>2017</td>\n",
       "      <td>1097.60000</td>\n",
       "    </tr>\n",
       "    <tr>\n",
       "      <th>2</th>\n",
       "      <td>1kg olive pack</td>\n",
       "      <td>2017</td>\n",
       "      <td>27.35488</td>\n",
       "    </tr>\n",
       "    <tr>\n",
       "      <th>11</th>\n",
       "      <td>Adelaide Tomatoes</td>\n",
       "      <td>2017</td>\n",
       "      <td>24.20970</td>\n",
       "    </tr>\n",
       "    <tr>\n",
       "      <th>38</th>\n",
       "      <td>Ambulthiyal Mix LA</td>\n",
       "      <td>2018</td>\n",
       "      <td>2.67000</td>\n",
       "    </tr>\n",
       "  </tbody>\n",
       "</table>\n",
       "</div>"
      ],
      "text/plain": [
       "              item_name  year  total_profit\n",
       "0   1Lt Coconut Oil Ver  2018     140.00000\n",
       "1       1Lt Coconut oil  2017    1097.60000\n",
       "2        1kg olive pack  2017      27.35488\n",
       "11    Adelaide Tomatoes  2017      24.20970\n",
       "38   Ambulthiyal Mix LA  2018       2.67000"
      ]
     },
     "execution_count": 99,
     "metadata": {},
     "output_type": "execute_result"
    }
   ],
   "source": [
    "unique_names.head()"
   ]
  },
  {
   "cell_type": "code",
   "execution_count": 60,
   "id": "ae572d8a",
   "metadata": {},
   "outputs": [],
   "source": [
    "# Rounding total profit columns to get rid of all decimals\n",
    "# to make bar graph labels more aesthetic \n",
    "\n",
    "discontinued_2017 = unique_names.query(\"year == 2017\")\n",
    "\n",
    "discontinued_2017 = discontinued_2017.round({\"total_profit\": 0})\n",
    "\n",
    "discontinued_2017_acsd = discontinued_2017.sort_values(by='total_profit', ascending=False)\n",
    "\n",
    "discontinued_2017_most_profit = discontinued_2017_acsd.head(20)"
   ]
  },
  {
   "cell_type": "code",
   "execution_count": 78,
   "id": "6434764f",
   "metadata": {},
   "outputs": [
    {
     "data": {
      "application/vnd.plotly.v1+json": {
       "config": {
        "plotlyServerURL": "https://plot.ly"
       },
       "data": [
        {
         "alignmentgroup": "True",
         "hovertemplate": "Total Profit=%{marker.color}<br>Item Name=%{y}<extra></extra>",
         "legendgroup": "",
         "marker": {
          "color": [
           1098,
           298,
           228,
           201,
           189,
           176,
           154,
           140,
           140,
           134,
           132,
           118,
           94,
           78,
           75,
           68,
           59,
           58,
           57,
           52
          ],
          "coloraxis": "coloraxis",
          "pattern": {
           "shape": ""
          }
         },
         "name": "",
         "offsetgroup": "",
         "orientation": "h",
         "showlegend": false,
         "text": [
          1098,
          298,
          228,
          201,
          189,
          176,
          154,
          140,
          140,
          134,
          132,
          118,
          94,
          78,
          75,
          68,
          59,
          58,
          57,
          52
         ],
         "textposition": "auto",
         "type": "bar",
         "x": [
          1098,
          298,
          228,
          201,
          189,
          176,
          154,
          140,
          140,
          134,
          132,
          118,
          94,
          78,
          75,
          68,
          59,
          58,
          57,
          52
         ],
         "xaxis": "x",
         "y": [
          "1Lt Coconut oil",
          "Sprouts bean shoots",
          "Avana Manadarin",
          "Late Imperial Mandarines",
          "Rambutan",
          "Super chef 5kg",
          "Drinking Coconut",
          "Prepacked Chinese Garlic",
          "Keitt Mango",
          "Cooking Banana",
          "Date Coconut Roll 340g",
          "Golden Moon Rockmelon",
          "continental cucumber 2for 2.40",
          "Mangosteen",
          "Packham pear 1kg",
          "potato dumplings 500g",
          "President Plum",
          "Fresh Juice 2 for $5",
          "potatoes royal blue",
          "egg free range 600g"
         ],
         "yaxis": "y"
        }
       ],
       "layout": {
        "barmode": "relative",
        "coloraxis": {
         "colorbar": {
          "title": {
           "text": "Total Profit"
          }
         },
         "colorscale": [
          [
           0,
           "#0d0887"
          ],
          [
           0.1111111111111111,
           "#46039f"
          ],
          [
           0.2222222222222222,
           "#7201a8"
          ],
          [
           0.3333333333333333,
           "#9c179e"
          ],
          [
           0.4444444444444444,
           "#bd3786"
          ],
          [
           0.5555555555555556,
           "#d8576b"
          ],
          [
           0.6666666666666666,
           "#ed7953"
          ],
          [
           0.7777777777777778,
           "#fb9f3a"
          ],
          [
           0.8888888888888888,
           "#fdca26"
          ],
          [
           1,
           "#f0f921"
          ]
         ]
        },
        "font": {
         "family": "Rockwell"
        },
        "legend": {
         "tracegroupgap": 0
        },
        "template": {
         "data": {
          "bar": [
           {
            "error_x": {
             "color": "#2a3f5f"
            },
            "error_y": {
             "color": "#2a3f5f"
            },
            "marker": {
             "line": {
              "color": "#E5ECF6",
              "width": 0.5
             },
             "pattern": {
              "fillmode": "overlay",
              "size": 10,
              "solidity": 0.2
             }
            },
            "type": "bar"
           }
          ],
          "barpolar": [
           {
            "marker": {
             "line": {
              "color": "#E5ECF6",
              "width": 0.5
             },
             "pattern": {
              "fillmode": "overlay",
              "size": 10,
              "solidity": 0.2
             }
            },
            "type": "barpolar"
           }
          ],
          "carpet": [
           {
            "aaxis": {
             "endlinecolor": "#2a3f5f",
             "gridcolor": "white",
             "linecolor": "white",
             "minorgridcolor": "white",
             "startlinecolor": "#2a3f5f"
            },
            "baxis": {
             "endlinecolor": "#2a3f5f",
             "gridcolor": "white",
             "linecolor": "white",
             "minorgridcolor": "white",
             "startlinecolor": "#2a3f5f"
            },
            "type": "carpet"
           }
          ],
          "choropleth": [
           {
            "colorbar": {
             "outlinewidth": 0,
             "ticks": ""
            },
            "type": "choropleth"
           }
          ],
          "contour": [
           {
            "colorbar": {
             "outlinewidth": 0,
             "ticks": ""
            },
            "colorscale": [
             [
              0,
              "#0d0887"
             ],
             [
              0.1111111111111111,
              "#46039f"
             ],
             [
              0.2222222222222222,
              "#7201a8"
             ],
             [
              0.3333333333333333,
              "#9c179e"
             ],
             [
              0.4444444444444444,
              "#bd3786"
             ],
             [
              0.5555555555555556,
              "#d8576b"
             ],
             [
              0.6666666666666666,
              "#ed7953"
             ],
             [
              0.7777777777777778,
              "#fb9f3a"
             ],
             [
              0.8888888888888888,
              "#fdca26"
             ],
             [
              1,
              "#f0f921"
             ]
            ],
            "type": "contour"
           }
          ],
          "contourcarpet": [
           {
            "colorbar": {
             "outlinewidth": 0,
             "ticks": ""
            },
            "type": "contourcarpet"
           }
          ],
          "heatmap": [
           {
            "colorbar": {
             "outlinewidth": 0,
             "ticks": ""
            },
            "colorscale": [
             [
              0,
              "#0d0887"
             ],
             [
              0.1111111111111111,
              "#46039f"
             ],
             [
              0.2222222222222222,
              "#7201a8"
             ],
             [
              0.3333333333333333,
              "#9c179e"
             ],
             [
              0.4444444444444444,
              "#bd3786"
             ],
             [
              0.5555555555555556,
              "#d8576b"
             ],
             [
              0.6666666666666666,
              "#ed7953"
             ],
             [
              0.7777777777777778,
              "#fb9f3a"
             ],
             [
              0.8888888888888888,
              "#fdca26"
             ],
             [
              1,
              "#f0f921"
             ]
            ],
            "type": "heatmap"
           }
          ],
          "heatmapgl": [
           {
            "colorbar": {
             "outlinewidth": 0,
             "ticks": ""
            },
            "colorscale": [
             [
              0,
              "#0d0887"
             ],
             [
              0.1111111111111111,
              "#46039f"
             ],
             [
              0.2222222222222222,
              "#7201a8"
             ],
             [
              0.3333333333333333,
              "#9c179e"
             ],
             [
              0.4444444444444444,
              "#bd3786"
             ],
             [
              0.5555555555555556,
              "#d8576b"
             ],
             [
              0.6666666666666666,
              "#ed7953"
             ],
             [
              0.7777777777777778,
              "#fb9f3a"
             ],
             [
              0.8888888888888888,
              "#fdca26"
             ],
             [
              1,
              "#f0f921"
             ]
            ],
            "type": "heatmapgl"
           }
          ],
          "histogram": [
           {
            "marker": {
             "pattern": {
              "fillmode": "overlay",
              "size": 10,
              "solidity": 0.2
             }
            },
            "type": "histogram"
           }
          ],
          "histogram2d": [
           {
            "colorbar": {
             "outlinewidth": 0,
             "ticks": ""
            },
            "colorscale": [
             [
              0,
              "#0d0887"
             ],
             [
              0.1111111111111111,
              "#46039f"
             ],
             [
              0.2222222222222222,
              "#7201a8"
             ],
             [
              0.3333333333333333,
              "#9c179e"
             ],
             [
              0.4444444444444444,
              "#bd3786"
             ],
             [
              0.5555555555555556,
              "#d8576b"
             ],
             [
              0.6666666666666666,
              "#ed7953"
             ],
             [
              0.7777777777777778,
              "#fb9f3a"
             ],
             [
              0.8888888888888888,
              "#fdca26"
             ],
             [
              1,
              "#f0f921"
             ]
            ],
            "type": "histogram2d"
           }
          ],
          "histogram2dcontour": [
           {
            "colorbar": {
             "outlinewidth": 0,
             "ticks": ""
            },
            "colorscale": [
             [
              0,
              "#0d0887"
             ],
             [
              0.1111111111111111,
              "#46039f"
             ],
             [
              0.2222222222222222,
              "#7201a8"
             ],
             [
              0.3333333333333333,
              "#9c179e"
             ],
             [
              0.4444444444444444,
              "#bd3786"
             ],
             [
              0.5555555555555556,
              "#d8576b"
             ],
             [
              0.6666666666666666,
              "#ed7953"
             ],
             [
              0.7777777777777778,
              "#fb9f3a"
             ],
             [
              0.8888888888888888,
              "#fdca26"
             ],
             [
              1,
              "#f0f921"
             ]
            ],
            "type": "histogram2dcontour"
           }
          ],
          "mesh3d": [
           {
            "colorbar": {
             "outlinewidth": 0,
             "ticks": ""
            },
            "type": "mesh3d"
           }
          ],
          "parcoords": [
           {
            "line": {
             "colorbar": {
              "outlinewidth": 0,
              "ticks": ""
             }
            },
            "type": "parcoords"
           }
          ],
          "pie": [
           {
            "automargin": true,
            "type": "pie"
           }
          ],
          "scatter": [
           {
            "fillpattern": {
             "fillmode": "overlay",
             "size": 10,
             "solidity": 0.2
            },
            "type": "scatter"
           }
          ],
          "scatter3d": [
           {
            "line": {
             "colorbar": {
              "outlinewidth": 0,
              "ticks": ""
             }
            },
            "marker": {
             "colorbar": {
              "outlinewidth": 0,
              "ticks": ""
             }
            },
            "type": "scatter3d"
           }
          ],
          "scattercarpet": [
           {
            "marker": {
             "colorbar": {
              "outlinewidth": 0,
              "ticks": ""
             }
            },
            "type": "scattercarpet"
           }
          ],
          "scattergeo": [
           {
            "marker": {
             "colorbar": {
              "outlinewidth": 0,
              "ticks": ""
             }
            },
            "type": "scattergeo"
           }
          ],
          "scattergl": [
           {
            "marker": {
             "colorbar": {
              "outlinewidth": 0,
              "ticks": ""
             }
            },
            "type": "scattergl"
           }
          ],
          "scattermapbox": [
           {
            "marker": {
             "colorbar": {
              "outlinewidth": 0,
              "ticks": ""
             }
            },
            "type": "scattermapbox"
           }
          ],
          "scatterpolar": [
           {
            "marker": {
             "colorbar": {
              "outlinewidth": 0,
              "ticks": ""
             }
            },
            "type": "scatterpolar"
           }
          ],
          "scatterpolargl": [
           {
            "marker": {
             "colorbar": {
              "outlinewidth": 0,
              "ticks": ""
             }
            },
            "type": "scatterpolargl"
           }
          ],
          "scatterternary": [
           {
            "marker": {
             "colorbar": {
              "outlinewidth": 0,
              "ticks": ""
             }
            },
            "type": "scatterternary"
           }
          ],
          "surface": [
           {
            "colorbar": {
             "outlinewidth": 0,
             "ticks": ""
            },
            "colorscale": [
             [
              0,
              "#0d0887"
             ],
             [
              0.1111111111111111,
              "#46039f"
             ],
             [
              0.2222222222222222,
              "#7201a8"
             ],
             [
              0.3333333333333333,
              "#9c179e"
             ],
             [
              0.4444444444444444,
              "#bd3786"
             ],
             [
              0.5555555555555556,
              "#d8576b"
             ],
             [
              0.6666666666666666,
              "#ed7953"
             ],
             [
              0.7777777777777778,
              "#fb9f3a"
             ],
             [
              0.8888888888888888,
              "#fdca26"
             ],
             [
              1,
              "#f0f921"
             ]
            ],
            "type": "surface"
           }
          ],
          "table": [
           {
            "cells": {
             "fill": {
              "color": "#EBF0F8"
             },
             "line": {
              "color": "white"
             }
            },
            "header": {
             "fill": {
              "color": "#C8D4E3"
             },
             "line": {
              "color": "white"
             }
            },
            "type": "table"
           }
          ]
         },
         "layout": {
          "annotationdefaults": {
           "arrowcolor": "#2a3f5f",
           "arrowhead": 0,
           "arrowwidth": 1
          },
          "autotypenumbers": "strict",
          "coloraxis": {
           "colorbar": {
            "outlinewidth": 0,
            "ticks": ""
           }
          },
          "colorscale": {
           "diverging": [
            [
             0,
             "#8e0152"
            ],
            [
             0.1,
             "#c51b7d"
            ],
            [
             0.2,
             "#de77ae"
            ],
            [
             0.3,
             "#f1b6da"
            ],
            [
             0.4,
             "#fde0ef"
            ],
            [
             0.5,
             "#f7f7f7"
            ],
            [
             0.6,
             "#e6f5d0"
            ],
            [
             0.7,
             "#b8e186"
            ],
            [
             0.8,
             "#7fbc41"
            ],
            [
             0.9,
             "#4d9221"
            ],
            [
             1,
             "#276419"
            ]
           ],
           "sequential": [
            [
             0,
             "#0d0887"
            ],
            [
             0.1111111111111111,
             "#46039f"
            ],
            [
             0.2222222222222222,
             "#7201a8"
            ],
            [
             0.3333333333333333,
             "#9c179e"
            ],
            [
             0.4444444444444444,
             "#bd3786"
            ],
            [
             0.5555555555555556,
             "#d8576b"
            ],
            [
             0.6666666666666666,
             "#ed7953"
            ],
            [
             0.7777777777777778,
             "#fb9f3a"
            ],
            [
             0.8888888888888888,
             "#fdca26"
            ],
            [
             1,
             "#f0f921"
            ]
           ],
           "sequentialminus": [
            [
             0,
             "#0d0887"
            ],
            [
             0.1111111111111111,
             "#46039f"
            ],
            [
             0.2222222222222222,
             "#7201a8"
            ],
            [
             0.3333333333333333,
             "#9c179e"
            ],
            [
             0.4444444444444444,
             "#bd3786"
            ],
            [
             0.5555555555555556,
             "#d8576b"
            ],
            [
             0.6666666666666666,
             "#ed7953"
            ],
            [
             0.7777777777777778,
             "#fb9f3a"
            ],
            [
             0.8888888888888888,
             "#fdca26"
            ],
            [
             1,
             "#f0f921"
            ]
           ]
          },
          "colorway": [
           "#636efa",
           "#EF553B",
           "#00cc96",
           "#ab63fa",
           "#FFA15A",
           "#19d3f3",
           "#FF6692",
           "#B6E880",
           "#FF97FF",
           "#FECB52"
          ],
          "font": {
           "color": "#2a3f5f"
          },
          "geo": {
           "bgcolor": "white",
           "lakecolor": "white",
           "landcolor": "#E5ECF6",
           "showlakes": true,
           "showland": true,
           "subunitcolor": "white"
          },
          "hoverlabel": {
           "align": "left"
          },
          "hovermode": "closest",
          "mapbox": {
           "style": "light"
          },
          "paper_bgcolor": "white",
          "plot_bgcolor": "#E5ECF6",
          "polar": {
           "angularaxis": {
            "gridcolor": "white",
            "linecolor": "white",
            "ticks": ""
           },
           "bgcolor": "#E5ECF6",
           "radialaxis": {
            "gridcolor": "white",
            "linecolor": "white",
            "ticks": ""
           }
          },
          "scene": {
           "xaxis": {
            "backgroundcolor": "#E5ECF6",
            "gridcolor": "white",
            "gridwidth": 2,
            "linecolor": "white",
            "showbackground": true,
            "ticks": "",
            "zerolinecolor": "white"
           },
           "yaxis": {
            "backgroundcolor": "#E5ECF6",
            "gridcolor": "white",
            "gridwidth": 2,
            "linecolor": "white",
            "showbackground": true,
            "ticks": "",
            "zerolinecolor": "white"
           },
           "zaxis": {
            "backgroundcolor": "#E5ECF6",
            "gridcolor": "white",
            "gridwidth": 2,
            "linecolor": "white",
            "showbackground": true,
            "ticks": "",
            "zerolinecolor": "white"
           }
          },
          "shapedefaults": {
           "line": {
            "color": "#2a3f5f"
           }
          },
          "ternary": {
           "aaxis": {
            "gridcolor": "white",
            "linecolor": "white",
            "ticks": ""
           },
           "baxis": {
            "gridcolor": "white",
            "linecolor": "white",
            "ticks": ""
           },
           "bgcolor": "#E5ECF6",
           "caxis": {
            "gridcolor": "white",
            "linecolor": "white",
            "ticks": ""
           }
          },
          "title": {
           "x": 0.05
          },
          "xaxis": {
           "automargin": true,
           "gridcolor": "white",
           "linecolor": "white",
           "ticks": "",
           "title": {
            "standoff": 15
           },
           "zerolinecolor": "white",
           "zerolinewidth": 2
          },
          "yaxis": {
           "automargin": true,
           "gridcolor": "white",
           "linecolor": "white",
           "ticks": "",
           "title": {
            "standoff": 15
           },
           "zerolinecolor": "white",
           "zerolinewidth": 2
          }
         }
        },
        "title": {
         "text": "Profit for Discontinued Items Sold in 2017 (Top 20)"
        },
        "xaxis": {
         "anchor": "y",
         "domain": [
          0,
          1
         ],
         "tickprefix": "$",
         "title": {
          "text": "Total Profit"
         }
        },
        "yaxis": {
         "anchor": "x",
         "domain": [
          0,
          1
         ],
         "title": {
          "text": "Item Name"
         }
        }
       }
      },
      "text/html": [
       "<div>                            <div id=\"84dda287-7f02-48ed-99e6-50fd8e00281e\" class=\"plotly-graph-div\" style=\"height:525px; width:100%;\"></div>            <script type=\"text/javascript\">                require([\"plotly\"], function(Plotly) {                    window.PLOTLYENV=window.PLOTLYENV || {};                                    if (document.getElementById(\"84dda287-7f02-48ed-99e6-50fd8e00281e\")) {                    Plotly.newPlot(                        \"84dda287-7f02-48ed-99e6-50fd8e00281e\",                        [{\"alignmentgroup\":\"True\",\"hovertemplate\":\"Total Profit=%{marker.color}<br>Item Name=%{y}<extra></extra>\",\"legendgroup\":\"\",\"marker\":{\"color\":[1098.0,298.0,228.0,201.0,189.0,176.0,154.0,140.0,140.0,134.0,132.0,118.0,94.0,78.0,75.0,68.0,59.0,58.0,57.0,52.0],\"coloraxis\":\"coloraxis\",\"pattern\":{\"shape\":\"\"}},\"name\":\"\",\"offsetgroup\":\"\",\"orientation\":\"h\",\"showlegend\":false,\"text\":[1098.0,298.0,228.0,201.0,189.0,176.0,154.0,140.0,140.0,134.0,132.0,118.0,94.0,78.0,75.0,68.0,59.0,58.0,57.0,52.0],\"textposition\":\"auto\",\"x\":[1098.0,298.0,228.0,201.0,189.0,176.0,154.0,140.0,140.0,134.0,132.0,118.0,94.0,78.0,75.0,68.0,59.0,58.0,57.0,52.0],\"xaxis\":\"x\",\"y\":[\"1Lt Coconut oil\",\"Sprouts bean shoots\",\"Avana Manadarin\",\"Late Imperial Mandarines\",\"Rambutan\",\"Super chef 5kg\",\"Drinking Coconut\",\"Prepacked Chinese Garlic\",\"Keitt Mango\",\"Cooking Banana\",\"Date Coconut Roll 340g\",\"Golden Moon Rockmelon\",\"continental cucumber 2for 2.40\",\"Mangosteen\",\"Packham pear 1kg\",\"potato dumplings 500g\",\"President Plum\",\"Fresh Juice 2 for $5\",\"potatoes royal blue\",\"egg free range 600g\"],\"yaxis\":\"y\",\"type\":\"bar\"}],                        {\"template\":{\"data\":{\"histogram2dcontour\":[{\"type\":\"histogram2dcontour\",\"colorbar\":{\"outlinewidth\":0,\"ticks\":\"\"},\"colorscale\":[[0.0,\"#0d0887\"],[0.1111111111111111,\"#46039f\"],[0.2222222222222222,\"#7201a8\"],[0.3333333333333333,\"#9c179e\"],[0.4444444444444444,\"#bd3786\"],[0.5555555555555556,\"#d8576b\"],[0.6666666666666666,\"#ed7953\"],[0.7777777777777778,\"#fb9f3a\"],[0.8888888888888888,\"#fdca26\"],[1.0,\"#f0f921\"]]}],\"choropleth\":[{\"type\":\"choropleth\",\"colorbar\":{\"outlinewidth\":0,\"ticks\":\"\"}}],\"histogram2d\":[{\"type\":\"histogram2d\",\"colorbar\":{\"outlinewidth\":0,\"ticks\":\"\"},\"colorscale\":[[0.0,\"#0d0887\"],[0.1111111111111111,\"#46039f\"],[0.2222222222222222,\"#7201a8\"],[0.3333333333333333,\"#9c179e\"],[0.4444444444444444,\"#bd3786\"],[0.5555555555555556,\"#d8576b\"],[0.6666666666666666,\"#ed7953\"],[0.7777777777777778,\"#fb9f3a\"],[0.8888888888888888,\"#fdca26\"],[1.0,\"#f0f921\"]]}],\"heatmap\":[{\"type\":\"heatmap\",\"colorbar\":{\"outlinewidth\":0,\"ticks\":\"\"},\"colorscale\":[[0.0,\"#0d0887\"],[0.1111111111111111,\"#46039f\"],[0.2222222222222222,\"#7201a8\"],[0.3333333333333333,\"#9c179e\"],[0.4444444444444444,\"#bd3786\"],[0.5555555555555556,\"#d8576b\"],[0.6666666666666666,\"#ed7953\"],[0.7777777777777778,\"#fb9f3a\"],[0.8888888888888888,\"#fdca26\"],[1.0,\"#f0f921\"]]}],\"heatmapgl\":[{\"type\":\"heatmapgl\",\"colorbar\":{\"outlinewidth\":0,\"ticks\":\"\"},\"colorscale\":[[0.0,\"#0d0887\"],[0.1111111111111111,\"#46039f\"],[0.2222222222222222,\"#7201a8\"],[0.3333333333333333,\"#9c179e\"],[0.4444444444444444,\"#bd3786\"],[0.5555555555555556,\"#d8576b\"],[0.6666666666666666,\"#ed7953\"],[0.7777777777777778,\"#fb9f3a\"],[0.8888888888888888,\"#fdca26\"],[1.0,\"#f0f921\"]]}],\"contourcarpet\":[{\"type\":\"contourcarpet\",\"colorbar\":{\"outlinewidth\":0,\"ticks\":\"\"}}],\"contour\":[{\"type\":\"contour\",\"colorbar\":{\"outlinewidth\":0,\"ticks\":\"\"},\"colorscale\":[[0.0,\"#0d0887\"],[0.1111111111111111,\"#46039f\"],[0.2222222222222222,\"#7201a8\"],[0.3333333333333333,\"#9c179e\"],[0.4444444444444444,\"#bd3786\"],[0.5555555555555556,\"#d8576b\"],[0.6666666666666666,\"#ed7953\"],[0.7777777777777778,\"#fb9f3a\"],[0.8888888888888888,\"#fdca26\"],[1.0,\"#f0f921\"]]}],\"surface\":[{\"type\":\"surface\",\"colorbar\":{\"outlinewidth\":0,\"ticks\":\"\"},\"colorscale\":[[0.0,\"#0d0887\"],[0.1111111111111111,\"#46039f\"],[0.2222222222222222,\"#7201a8\"],[0.3333333333333333,\"#9c179e\"],[0.4444444444444444,\"#bd3786\"],[0.5555555555555556,\"#d8576b\"],[0.6666666666666666,\"#ed7953\"],[0.7777777777777778,\"#fb9f3a\"],[0.8888888888888888,\"#fdca26\"],[1.0,\"#f0f921\"]]}],\"mesh3d\":[{\"type\":\"mesh3d\",\"colorbar\":{\"outlinewidth\":0,\"ticks\":\"\"}}],\"scatter\":[{\"fillpattern\":{\"fillmode\":\"overlay\",\"size\":10,\"solidity\":0.2},\"type\":\"scatter\"}],\"parcoords\":[{\"type\":\"parcoords\",\"line\":{\"colorbar\":{\"outlinewidth\":0,\"ticks\":\"\"}}}],\"scatterpolargl\":[{\"type\":\"scatterpolargl\",\"marker\":{\"colorbar\":{\"outlinewidth\":0,\"ticks\":\"\"}}}],\"bar\":[{\"error_x\":{\"color\":\"#2a3f5f\"},\"error_y\":{\"color\":\"#2a3f5f\"},\"marker\":{\"line\":{\"color\":\"#E5ECF6\",\"width\":0.5},\"pattern\":{\"fillmode\":\"overlay\",\"size\":10,\"solidity\":0.2}},\"type\":\"bar\"}],\"scattergeo\":[{\"type\":\"scattergeo\",\"marker\":{\"colorbar\":{\"outlinewidth\":0,\"ticks\":\"\"}}}],\"scatterpolar\":[{\"type\":\"scatterpolar\",\"marker\":{\"colorbar\":{\"outlinewidth\":0,\"ticks\":\"\"}}}],\"histogram\":[{\"marker\":{\"pattern\":{\"fillmode\":\"overlay\",\"size\":10,\"solidity\":0.2}},\"type\":\"histogram\"}],\"scattergl\":[{\"type\":\"scattergl\",\"marker\":{\"colorbar\":{\"outlinewidth\":0,\"ticks\":\"\"}}}],\"scatter3d\":[{\"type\":\"scatter3d\",\"line\":{\"colorbar\":{\"outlinewidth\":0,\"ticks\":\"\"}},\"marker\":{\"colorbar\":{\"outlinewidth\":0,\"ticks\":\"\"}}}],\"scattermapbox\":[{\"type\":\"scattermapbox\",\"marker\":{\"colorbar\":{\"outlinewidth\":0,\"ticks\":\"\"}}}],\"scatterternary\":[{\"type\":\"scatterternary\",\"marker\":{\"colorbar\":{\"outlinewidth\":0,\"ticks\":\"\"}}}],\"scattercarpet\":[{\"type\":\"scattercarpet\",\"marker\":{\"colorbar\":{\"outlinewidth\":0,\"ticks\":\"\"}}}],\"carpet\":[{\"aaxis\":{\"endlinecolor\":\"#2a3f5f\",\"gridcolor\":\"white\",\"linecolor\":\"white\",\"minorgridcolor\":\"white\",\"startlinecolor\":\"#2a3f5f\"},\"baxis\":{\"endlinecolor\":\"#2a3f5f\",\"gridcolor\":\"white\",\"linecolor\":\"white\",\"minorgridcolor\":\"white\",\"startlinecolor\":\"#2a3f5f\"},\"type\":\"carpet\"}],\"table\":[{\"cells\":{\"fill\":{\"color\":\"#EBF0F8\"},\"line\":{\"color\":\"white\"}},\"header\":{\"fill\":{\"color\":\"#C8D4E3\"},\"line\":{\"color\":\"white\"}},\"type\":\"table\"}],\"barpolar\":[{\"marker\":{\"line\":{\"color\":\"#E5ECF6\",\"width\":0.5},\"pattern\":{\"fillmode\":\"overlay\",\"size\":10,\"solidity\":0.2}},\"type\":\"barpolar\"}],\"pie\":[{\"automargin\":true,\"type\":\"pie\"}]},\"layout\":{\"autotypenumbers\":\"strict\",\"colorway\":[\"#636efa\",\"#EF553B\",\"#00cc96\",\"#ab63fa\",\"#FFA15A\",\"#19d3f3\",\"#FF6692\",\"#B6E880\",\"#FF97FF\",\"#FECB52\"],\"font\":{\"color\":\"#2a3f5f\"},\"hovermode\":\"closest\",\"hoverlabel\":{\"align\":\"left\"},\"paper_bgcolor\":\"white\",\"plot_bgcolor\":\"#E5ECF6\",\"polar\":{\"bgcolor\":\"#E5ECF6\",\"angularaxis\":{\"gridcolor\":\"white\",\"linecolor\":\"white\",\"ticks\":\"\"},\"radialaxis\":{\"gridcolor\":\"white\",\"linecolor\":\"white\",\"ticks\":\"\"}},\"ternary\":{\"bgcolor\":\"#E5ECF6\",\"aaxis\":{\"gridcolor\":\"white\",\"linecolor\":\"white\",\"ticks\":\"\"},\"baxis\":{\"gridcolor\":\"white\",\"linecolor\":\"white\",\"ticks\":\"\"},\"caxis\":{\"gridcolor\":\"white\",\"linecolor\":\"white\",\"ticks\":\"\"}},\"coloraxis\":{\"colorbar\":{\"outlinewidth\":0,\"ticks\":\"\"}},\"colorscale\":{\"sequential\":[[0.0,\"#0d0887\"],[0.1111111111111111,\"#46039f\"],[0.2222222222222222,\"#7201a8\"],[0.3333333333333333,\"#9c179e\"],[0.4444444444444444,\"#bd3786\"],[0.5555555555555556,\"#d8576b\"],[0.6666666666666666,\"#ed7953\"],[0.7777777777777778,\"#fb9f3a\"],[0.8888888888888888,\"#fdca26\"],[1.0,\"#f0f921\"]],\"sequentialminus\":[[0.0,\"#0d0887\"],[0.1111111111111111,\"#46039f\"],[0.2222222222222222,\"#7201a8\"],[0.3333333333333333,\"#9c179e\"],[0.4444444444444444,\"#bd3786\"],[0.5555555555555556,\"#d8576b\"],[0.6666666666666666,\"#ed7953\"],[0.7777777777777778,\"#fb9f3a\"],[0.8888888888888888,\"#fdca26\"],[1.0,\"#f0f921\"]],\"diverging\":[[0,\"#8e0152\"],[0.1,\"#c51b7d\"],[0.2,\"#de77ae\"],[0.3,\"#f1b6da\"],[0.4,\"#fde0ef\"],[0.5,\"#f7f7f7\"],[0.6,\"#e6f5d0\"],[0.7,\"#b8e186\"],[0.8,\"#7fbc41\"],[0.9,\"#4d9221\"],[1,\"#276419\"]]},\"xaxis\":{\"gridcolor\":\"white\",\"linecolor\":\"white\",\"ticks\":\"\",\"title\":{\"standoff\":15},\"zerolinecolor\":\"white\",\"automargin\":true,\"zerolinewidth\":2},\"yaxis\":{\"gridcolor\":\"white\",\"linecolor\":\"white\",\"ticks\":\"\",\"title\":{\"standoff\":15},\"zerolinecolor\":\"white\",\"automargin\":true,\"zerolinewidth\":2},\"scene\":{\"xaxis\":{\"backgroundcolor\":\"#E5ECF6\",\"gridcolor\":\"white\",\"linecolor\":\"white\",\"showbackground\":true,\"ticks\":\"\",\"zerolinecolor\":\"white\",\"gridwidth\":2},\"yaxis\":{\"backgroundcolor\":\"#E5ECF6\",\"gridcolor\":\"white\",\"linecolor\":\"white\",\"showbackground\":true,\"ticks\":\"\",\"zerolinecolor\":\"white\",\"gridwidth\":2},\"zaxis\":{\"backgroundcolor\":\"#E5ECF6\",\"gridcolor\":\"white\",\"linecolor\":\"white\",\"showbackground\":true,\"ticks\":\"\",\"zerolinecolor\":\"white\",\"gridwidth\":2}},\"shapedefaults\":{\"line\":{\"color\":\"#2a3f5f\"}},\"annotationdefaults\":{\"arrowcolor\":\"#2a3f5f\",\"arrowhead\":0,\"arrowwidth\":1},\"geo\":{\"bgcolor\":\"white\",\"landcolor\":\"#E5ECF6\",\"subunitcolor\":\"white\",\"showland\":true,\"showlakes\":true,\"lakecolor\":\"white\"},\"title\":{\"x\":0.05},\"mapbox\":{\"style\":\"light\"}}},\"xaxis\":{\"anchor\":\"y\",\"domain\":[0.0,1.0],\"title\":{\"text\":\"Total Profit\"},\"tickprefix\":\"$\"},\"yaxis\":{\"anchor\":\"x\",\"domain\":[0.0,1.0],\"title\":{\"text\":\"Item Name\"}},\"coloraxis\":{\"colorbar\":{\"title\":{\"text\":\"Total Profit\"}},\"colorscale\":[[0.0,\"#0d0887\"],[0.1111111111111111,\"#46039f\"],[0.2222222222222222,\"#7201a8\"],[0.3333333333333333,\"#9c179e\"],[0.4444444444444444,\"#bd3786\"],[0.5555555555555556,\"#d8576b\"],[0.6666666666666666,\"#ed7953\"],[0.7777777777777778,\"#fb9f3a\"],[0.8888888888888888,\"#fdca26\"],[1.0,\"#f0f921\"]]},\"legend\":{\"tracegroupgap\":0},\"title\":{\"text\":\"Profit for Discontinued Items Sold in 2017 (Top 20)\"},\"barmode\":\"relative\",\"font\":{\"family\":\"Rockwell\"}},                        {\"responsive\": true}                    ).then(function(){\n",
       "                            \n",
       "var gd = document.getElementById('84dda287-7f02-48ed-99e6-50fd8e00281e');\n",
       "var x = new MutationObserver(function (mutations, observer) {{\n",
       "        var display = window.getComputedStyle(gd).display;\n",
       "        if (!display || display === 'none') {{\n",
       "            console.log([gd, 'removed!']);\n",
       "            Plotly.purge(gd);\n",
       "            observer.disconnect();\n",
       "        }}\n",
       "}});\n",
       "\n",
       "// Listen for the removal of the full notebook cells\n",
       "var notebookContainer = gd.closest('#notebook-container');\n",
       "if (notebookContainer) {{\n",
       "    x.observe(notebookContainer, {childList: true});\n",
       "}}\n",
       "\n",
       "// Listen for the clearing of the current output cell\n",
       "var outputEl = gd.closest('.output');\n",
       "if (outputEl) {{\n",
       "    x.observe(outputEl, {childList: true});\n",
       "}}\n",
       "\n",
       "                        })                };                });            </script>        </div>"
      ]
     },
     "metadata": {},
     "output_type": "display_data"
    }
   ],
   "source": [
    "discontinued_2017_bar = px.bar(discontinued_2017_most_profit, y = \"item_name\", x = \"total_profit\",\n",
    "                               title = \"Profit for Discontinued Items Sold in 2017 (Top 20)\",\n",
    "                               color = \"total_profit\",\n",
    "                               text = \"total_profit\",\n",
    "                               labels = {\"total_profit\": \"Total Profit\",\n",
    "                                         \"item_name\": \"Item Name\"\n",
    "                                        }\n",
    "                              )\n",
    "\n",
    "\n",
    "\n",
    "# Styling Bar Graph\n",
    "\n",
    "discontinued_2017_bar.update_layout(font_family = \"Rockwell\")\n",
    "discontinued_2017_bar.update_xaxes(tickprefix = \"$\")\n",
    "\n",
    "\n",
    "discontinued_2017_bar.show()"
   ]
  },
  {
   "cell_type": "code",
   "execution_count": 17,
   "id": "8527fd80",
   "metadata": {
    "scrolled": true
   },
   "outputs": [
    {
     "data": {
      "text/plain": [
       "array(['Fresh Produce', 'Beverages', 'Pantry Staples', 'Flowers',\n",
       "       'Snacks', 'Breads & Bakery', 'Dairy, Cheese, and Eggs', 'Beverage',\n",
       "       'Bag', 'Miscellaneous'], dtype=object)"
      ]
     },
     "execution_count": 17,
     "metadata": {},
     "output_type": "execute_result"
    }
   ],
   "source": [
    "pd.unique(dataset[\"main_category\"])"
   ]
  },
  {
   "cell_type": "code",
   "execution_count": 95,
   "id": "437f69be",
   "metadata": {
    "scrolled": true
   },
   "outputs": [
    {
     "data": {
      "text/html": [
       "<div>\n",
       "<style scoped>\n",
       "    .dataframe tbody tr th:only-of-type {\n",
       "        vertical-align: middle;\n",
       "    }\n",
       "\n",
       "    .dataframe tbody tr th {\n",
       "        vertical-align: top;\n",
       "    }\n",
       "\n",
       "    .dataframe thead th {\n",
       "        text-align: right;\n",
       "    }\n",
       "</style>\n",
       "<table border=\"1\" class=\"dataframe\">\n",
       "  <thead>\n",
       "    <tr style=\"text-align: right;\">\n",
       "      <th></th>\n",
       "      <th>receipt_id</th>\n",
       "      <th>date</th>\n",
       "      <th>item_code</th>\n",
       "      <th>item_name</th>\n",
       "      <th>main_category</th>\n",
       "      <th>sub_category</th>\n",
       "      <th>quantity</th>\n",
       "      <th>payment_type</th>\n",
       "      <th>unit_buying_price</th>\n",
       "      <th>unit_selling_price</th>\n",
       "      <th>unit_price_margin</th>\n",
       "      <th>total_buying_price</th>\n",
       "      <th>total_selling_price</th>\n",
       "      <th>total_profit</th>\n",
       "      <th>year</th>\n",
       "    </tr>\n",
       "  </thead>\n",
       "  <tbody>\n",
       "    <tr>\n",
       "      <th>13658</th>\n",
       "      <td>2e42fb12-79b5-43c7-890f-c79e39006129</td>\n",
       "      <td>2018-08-03 18:02:01</td>\n",
       "      <td>2010</td>\n",
       "      <td>Banana Cavendish</td>\n",
       "      <td>Fresh Produce</td>\n",
       "      <td>Bananas</td>\n",
       "      <td>0.086</td>\n",
       "      <td>cash</td>\n",
       "      <td>2.0</td>\n",
       "      <td>1.99</td>\n",
       "      <td>-0.01</td>\n",
       "      <td>0.172</td>\n",
       "      <td>0.17114</td>\n",
       "      <td>-0.00086</td>\n",
       "      <td>2018</td>\n",
       "    </tr>\n",
       "    <tr>\n",
       "      <th>13659</th>\n",
       "      <td>96c8e9de-1ddc-42d2-9137-05b592a4b612</td>\n",
       "      <td>2018-11-21 10:06:34</td>\n",
       "      <td>2010</td>\n",
       "      <td>Banana Cavendish</td>\n",
       "      <td>Fresh Produce</td>\n",
       "      <td>Bananas</td>\n",
       "      <td>0.106</td>\n",
       "      <td>cash</td>\n",
       "      <td>2.0</td>\n",
       "      <td>1.99</td>\n",
       "      <td>-0.01</td>\n",
       "      <td>0.212</td>\n",
       "      <td>0.21094</td>\n",
       "      <td>-0.00106</td>\n",
       "      <td>2018</td>\n",
       "    </tr>\n",
       "    <tr>\n",
       "      <th>13660</th>\n",
       "      <td>710f3e94-2818-42d1-b718-e65b4fe3355d</td>\n",
       "      <td>2018-07-16 14:28:49</td>\n",
       "      <td>2010</td>\n",
       "      <td>Banana Cavendish</td>\n",
       "      <td>Fresh Produce</td>\n",
       "      <td>Bananas</td>\n",
       "      <td>0.108</td>\n",
       "      <td>cash</td>\n",
       "      <td>2.0</td>\n",
       "      <td>1.99</td>\n",
       "      <td>-0.01</td>\n",
       "      <td>0.216</td>\n",
       "      <td>0.21492</td>\n",
       "      <td>-0.00108</td>\n",
       "      <td>2018</td>\n",
       "    </tr>\n",
       "    <tr>\n",
       "      <th>13661</th>\n",
       "      <td>527b88fc-41c1-4a3f-818e-f994ff10018b</td>\n",
       "      <td>2018-10-12 12:57:08</td>\n",
       "      <td>2010</td>\n",
       "      <td>Banana Cavendish</td>\n",
       "      <td>Fresh Produce</td>\n",
       "      <td>Bananas</td>\n",
       "      <td>0.110</td>\n",
       "      <td>cash</td>\n",
       "      <td>2.0</td>\n",
       "      <td>1.99</td>\n",
       "      <td>-0.01</td>\n",
       "      <td>0.220</td>\n",
       "      <td>0.21890</td>\n",
       "      <td>-0.00110</td>\n",
       "      <td>2018</td>\n",
       "    </tr>\n",
       "    <tr>\n",
       "      <th>13662</th>\n",
       "      <td>fda13b9a-a2a2-462d-8bcb-a92d86536429</td>\n",
       "      <td>2018-09-17 15:34:19</td>\n",
       "      <td>2010</td>\n",
       "      <td>Banana Cavendish</td>\n",
       "      <td>Fresh Produce</td>\n",
       "      <td>Bananas</td>\n",
       "      <td>0.110</td>\n",
       "      <td>cash</td>\n",
       "      <td>2.0</td>\n",
       "      <td>1.99</td>\n",
       "      <td>-0.01</td>\n",
       "      <td>0.220</td>\n",
       "      <td>0.21890</td>\n",
       "      <td>-0.00110</td>\n",
       "      <td>2018</td>\n",
       "    </tr>\n",
       "  </tbody>\n",
       "</table>\n",
       "</div>"
      ],
      "text/plain": [
       "                                 receipt_id                date  item_code  \\\n",
       "13658  2e42fb12-79b5-43c7-890f-c79e39006129 2018-08-03 18:02:01       2010   \n",
       "13659  96c8e9de-1ddc-42d2-9137-05b592a4b612 2018-11-21 10:06:34       2010   \n",
       "13660  710f3e94-2818-42d1-b718-e65b4fe3355d 2018-07-16 14:28:49       2010   \n",
       "13661  527b88fc-41c1-4a3f-818e-f994ff10018b 2018-10-12 12:57:08       2010   \n",
       "13662  fda13b9a-a2a2-462d-8bcb-a92d86536429 2018-09-17 15:34:19       2010   \n",
       "\n",
       "              item_name  main_category sub_category  quantity payment_type  \\\n",
       "13658  Banana Cavendish  Fresh Produce      Bananas     0.086         cash   \n",
       "13659  Banana Cavendish  Fresh Produce      Bananas     0.106         cash   \n",
       "13660  Banana Cavendish  Fresh Produce      Bananas     0.108         cash   \n",
       "13661  Banana Cavendish  Fresh Produce      Bananas     0.110         cash   \n",
       "13662  Banana Cavendish  Fresh Produce      Bananas     0.110         cash   \n",
       "\n",
       "       unit_buying_price  unit_selling_price  unit_price_margin  \\\n",
       "13658                2.0                1.99              -0.01   \n",
       "13659                2.0                1.99              -0.01   \n",
       "13660                2.0                1.99              -0.01   \n",
       "13661                2.0                1.99              -0.01   \n",
       "13662                2.0                1.99              -0.01   \n",
       "\n",
       "       total_buying_price  total_selling_price  total_profit  year  \n",
       "13658               0.172              0.17114      -0.00086  2018  \n",
       "13659               0.212              0.21094      -0.00106  2018  \n",
       "13660               0.216              0.21492      -0.00108  2018  \n",
       "13661               0.220              0.21890      -0.00110  2018  \n",
       "13662               0.220              0.21890      -0.00110  2018  "
      ]
     },
     "execution_count": 95,
     "metadata": {},
     "output_type": "execute_result"
    }
   ],
   "source": [
    "banana_receipts = dataset[dataset.item_name == \"Banana Cavendish\"]\n",
    "\n",
    "\n",
    "banana_receipts.head()"
   ]
  }
 ],
 "metadata": {
  "kernelspec": {
   "display_name": "Python 3 (ipykernel)",
   "language": "python",
   "name": "python3"
  },
  "language_info": {
   "codemirror_mode": {
    "name": "ipython",
    "version": 3
   },
   "file_extension": ".py",
   "mimetype": "text/x-python",
   "name": "python",
   "nbconvert_exporter": "python",
   "pygments_lexer": "ipython3",
   "version": "3.9.13"
  }
 },
 "nbformat": 4,
 "nbformat_minor": 5
}
